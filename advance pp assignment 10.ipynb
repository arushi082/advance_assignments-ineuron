{
 "cells": [
  {
   "cell_type": "code",
   "execution_count": null,
   "metadata": {},
   "outputs": [],
   "source": [
    "1. Create a function that takes the width, height and character and returns a\n",
    "picture frame as a 2D list.\n",
    "Examples\n",
    "get_frame(4, 5, \"#\") ➞ [\n",
    "[\"####\"],\n",
    "[\"# #\"],\n",
    "[\"# #\"],\n",
    "[\"# #\"],\n",
    "[\"####\"]\n",
    "]\n",
    "# Frame is 4 characters wide and 5 characters tall.\n",
    "\n",
    "get_frame(10, 3, \"*\") ➞ [\n",
    "[\"**********\"],\n",
    "[\"* *\"],\n",
    "[\"**********\"]\n",
    "]\n",
    "# Frame is 10 characters and wide and 3 characters tall.\n",
    "\n",
    "get_frame(2, 5, \"0\") ➞ \"invalid\"\n",
    "# Frame's width is not more than 2."
   ]
  },
  {
   "cell_type": "code",
   "execution_count": null,
   "metadata": {},
   "outputs": [],
   "source": []
  },
  {
   "cell_type": "code",
   "execution_count": null,
   "metadata": {},
   "outputs": [],
   "source": [
    "2. Write three functions:\n",
    "1. boolean_and\n",
    "2. boolean_or\n",
    "3. boolean_xor\n",
    "These functions should evaluate a list of True and False values, starting from\n",
    "the leftmost element and evaluating pairwise.\n",
    "Examples\n",
    "boolean_and([True, True, False, True]) ➞ False\n",
    "# [True, True, False, True] => [True, False, True] => [False, True] => False\n",
    "boolean_or([True, True, False, False]) ➞ True\n",
    "# [True, True, False, True] => [True, False, False] => [True, False] => True\n",
    "boolean_xor([True, True, False, False]) ➞ False\n",
    "# [True, True, False, False] => [False, False, False] => [False, False] =>\n",
    "False"
   ]
  },
  {
   "cell_type": "code",
   "execution_count": 5,
   "metadata": {},
   "outputs": [
    {
     "name": "stdout",
     "output_type": "stream",
     "text": [
      "False\n",
      "True\n",
      "False\n"
     ]
    }
   ],
   "source": [
    "from operator import ixor\n",
    "from functools import reduce\n",
    "def boolean_and(list):\n",
    "    result=all(list)\n",
    "    print(result)\n",
    "def boolean_or(list):\n",
    "    result=any(list)\n",
    "    print(result)\n",
    "def boolean_xor(list):\n",
    "    result=reduce(ixor,list)\n",
    "    print(result)\n",
    "boolean_and([True, True, False, True])\n",
    "boolean_or([True, True, False, False])\n",
    "boolean_xor([True, True, False, False])"
   ]
  },
  {
   "cell_type": "code",
   "execution_count": null,
   "metadata": {},
   "outputs": [],
   "source": [
    "3. Create a function that creates a box based on dimension n.\n",
    "Examples\n",
    "make_box(5) ➞ [\n",
    "\"#####\",\n",
    "\"#   #\",\n",
    "\"#   #\",\n",
    "\"#   #\",\n",
    "\"#####\"\n",
    "]\n",
    "make_box(3) ➞ [\n",
    "\"###\",\n",
    "\"# #\",\n",
    "\"###\";\n",
    "]\n",
    "make_box(1) ➞ [\n",
    "\"#\"\n",
    "]"
   ]
  },
  {
   "cell_type": "code",
   "execution_count": 2,
   "metadata": {},
   "outputs": [
    {
     "name": "stdout",
     "output_type": "stream",
     "text": [
      "#####\n",
      "#   #\n",
      "#   #\n",
      "#   #\n",
      "#####\n"
     ]
    }
   ],
   "source": [
    "def make_box(n) :\n",
    "    m=n     \n",
    "    for i in range(1, n+1) :\n",
    "        for j in range(1, m+1) :\n",
    "            if (i == 1 or i == n or\n",
    "                j == 1 or j == m) :\n",
    "                print(\"#\", end=\"\")           \n",
    "            else :\n",
    "                print(\" \", end=\"\")           \n",
    "        print()\n",
    "make_box(5)\n"
   ]
  },
  {
   "cell_type": "code",
   "execution_count": null,
   "metadata": {},
   "outputs": [],
   "source": [
    "4. Given a common phrase, return False if any individual word in the phrase\n",
    "contains duplicate letters. Return True otherwise.\n",
    "Examples\n",
    "no_duplicate_letters(\"Fortune favours the bold.\") ➞ True\n",
    "no_duplicate_letters(\"You can lead a horse to water, but you can't make him\n",
    "drink.\") ➞ True\n",
    "no_duplicate_letters(\"Look before you leap.\"\") ➞ False\n",
    "# Duplicate letters in \"Look\" and \"before\".\n",
    "no_duplicate_letters(\"An apple a day keeps the doctor away.\") ➞ False"
   ]
  },
  {
   "cell_type": "code",
   "execution_count": 25,
   "metadata": {},
   "outputs": [
    {
     "name": "stdout",
     "output_type": "stream",
     "text": [
      "True\n",
      "False\n",
      "False\n"
     ]
    }
   ],
   "source": [
    "def uniqueCharacters(str):\n",
    "    for i in range(len(str)):\n",
    "        for j in range(i + 1,len(str)):\n",
    "            if(str[i] == str[j]):\n",
    "                return False\n",
    "    return True\n",
    "def no_duplicate_letters(string):\n",
    "    list2=[]\n",
    "    list1=string.split(\" \")\n",
    "    for i in list1:\n",
    "        b=uniqueCharacters(i)\n",
    "        list2.append(b)\n",
    "    return all(list2)\n",
    "print(no_duplicate_letters(\"Fortune favours the bold.\"))\n",
    "print(no_duplicate_letters(\"Look before you leap.\"))\n",
    "print(no_duplicate_letters(\"An apple a day keeps the doctor away.\"))"
   ]
  },
  {
   "cell_type": "code",
   "execution_count": null,
   "metadata": {},
   "outputs": [],
   "source": [
    "5. Write a regular expression that will match the states that voted yes to\n",
    "President Trump's impeachment. You must use RegEx positive lookahead.\n",
    "Example\n",
    "txt = \"Texas = no, California = yes, Florida = yes, Michigan = no\"\n",
    "pattern = \"yourregularexpressionhere\"\n",
    "re.findall(pattern, txt) ➞ [\"California\", \"Florida\"]"
   ]
  },
  {
   "cell_type": "code",
   "execution_count": 2,
   "metadata": {},
   "outputs": [
    {
     "name": "stdout",
     "output_type": "stream",
     "text": [
      "[' California ', ' Florida ']\n"
     ]
    }
   ],
   "source": [
    "import re\n",
    "txt = \"Texas = no, California = yes, Florida = yes, Michigan = no\"\n",
    "finallist=[]\n",
    "list1=txt.split(\",\")\n",
    "r = re.compile(\".*yes\")\n",
    "newlist = list(filter(r.match, list1)) \n",
    "for i in newlist:\n",
    "    j=i.replace(\"= yes\",\"\")\n",
    "    finallist.append(j)\n",
    "print(finallist)"
   ]
  }
 ],
 "metadata": {
  "kernelspec": {
   "display_name": "Python 3",
   "language": "python",
   "name": "python3"
  },
  "language_info": {
   "codemirror_mode": {
    "name": "ipython",
    "version": 3
   },
   "file_extension": ".py",
   "mimetype": "text/x-python",
   "name": "python",
   "nbconvert_exporter": "python",
   "pygments_lexer": "ipython3",
   "version": "3.7.6"
  }
 },
 "nbformat": 4,
 "nbformat_minor": 4
}
