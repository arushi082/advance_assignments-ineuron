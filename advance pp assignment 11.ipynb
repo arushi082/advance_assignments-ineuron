{
 "cells": [
  {
   "cell_type": "code",
   "execution_count": null,
   "metadata": {},
   "outputs": [],
   "source": [
    "1. Create a function that takes a list and returns a new list containing only prime numbers.\n",
    "\n",
    "Examples\n",
    "\n",
    "filter_primes([7, 9, 3, 9, 10, 11, 27]) ➞ [7, 3, 11]\n",
    "\n",
    "filter_primes([10007, 1009, 1007, 27, 147, 77, 1001, 70]) ➞ [10007, 1009]\n",
    "\n",
    "filter_primes([1009, 10, 10, 10, 3, 33, 9, 4, 1, 61, 63, 69, 1087, 1091, 1093, 1097]) ➞ [1009, 3, 61, 1087, 1091, 1093, 1097]"
   ]
  },
  {
   "cell_type": "code",
   "execution_count": 1,
   "metadata": {},
   "outputs": [
    {
     "data": {
      "text/plain": [
       "[1009, 3, 61, 1087, 1091, 1093, 1097]"
      ]
     },
     "execution_count": 1,
     "metadata": {},
     "output_type": "execute_result"
    }
   ],
   "source": [
    "def prime(num):\n",
    "    if num > 1:\n",
    "        for i in range(2, int(num/2)+1):\n",
    "            if (num % i) == 0:\n",
    "                return False\n",
    "                break\n",
    "        else:\n",
    "            return True\n",
    "    else:\n",
    "        return False\n",
    "    \n",
    "def filter_primes(list1):\n",
    "    list2=[]\n",
    "    for i in list1:\n",
    "        b=prime(i) \n",
    "        if b == True:\n",
    "            list2.append(i)            \n",
    "    return list2\n",
    "filter_primes([7, 9, 3, 9, 10, 11, 27])\n",
    "filter_primes([10007, 1009, 1007, 27, 147, 77, 1001, 70])\n",
    "filter_primes([1009, 10, 10, 10, 3, 33, 9, 4, 1, 61, 63, 69, 1087, 1091, 1093, 1097])"
   ]
  },
  {
   "cell_type": "code",
   "execution_count": null,
   "metadata": {},
   "outputs": [],
   "source": [
    "2. Once a water balloon pops, is soaks the area around it. The ground gets drier the further away you travel from the balloon.\n",
    "\n",
    "The effect of a water balloon popping can be modeled using a list. Create a function that takes a list which takes the pre-pop state and returns the state after the balloon is popped. The pre-pop state will contain at most a single balloon, whose size is represented by the only non-zero element.\n",
    "\n",
    "Examples\n",
    "\n",
    "pop([0, 0, 0, 0, 4, 0, 0, 0, 0]) ➞ [0, 1, 2, 3, 4, 3, 2, 1, 0]\n",
    "\n",
    "pop([0, 0, 0, 3, 0, 0, 0]) ➞ [0, 1, 2, 3, 2, 1, 0]\n",
    "\n",
    "pop([0, 0, 2, 0, 0]) ➞ [0, 1, 2, 1, 0]\n",
    "\n",
    "pop([0]) ➞ [0]\n"
   ]
  },
  {
   "cell_type": "code",
   "execution_count": 3,
   "metadata": {},
   "outputs": [
    {
     "name": "stdout",
     "output_type": "stream",
     "text": [
      "[0, 1, 2, 1, 0]\n",
      "[0, 1, 2, 3, 2, 1, 0]\n",
      "[0, 1, 2, 1, 0]\n"
     ]
    }
   ],
   "source": [
    "def pop(points):\n",
    "    pos = 0\n",
    "    for point in points:\n",
    "        if(point !=0):\n",
    "            data = point\n",
    "            for i in range(1, point):\n",
    "                points[pos - i] = data - 1\n",
    "                points[pos + i] = data -1\n",
    "                data -=1\n",
    "            break;\n",
    "        pos +=1\n",
    "    return points\n",
    "\n",
    "print(pop([0,0,2,0,0]))\n",
    "print(pop([0,0,0,3,0,0,0]))\n",
    "print(pop([0, 0, 2, 0, 0]))"
   ]
  },
  {
   "cell_type": "code",
   "execution_count": null,
   "metadata": {},
   "outputs": [],
   "source": [
    "\"Loves me, loves me not\" is a traditional game in which a person plucks off\n",
    "all the petals of a flower one by one, saying the phrase \"Loves me\" and\n",
    "\"Loves me not\" when determining whether the one that they love, loves them\n",
    "back.\n",
    "Given a number of petals, return a string which repeats the phrases\"Loves\n",
    "me\" and \"Loves me not\" for every alternating petal, and return the last phrase\n",
    "in all caps. Remember to put a comma and space between phrases.\n",
    "Examples\n",
    "loves_me(3) ➞\"Loves me, Loves me not, LOVES ME\""
   ]
  },
  {
   "cell_type": "code",
   "execution_count": 1,
   "metadata": {},
   "outputs": [
    {
     "data": {
      "text/plain": [
       "'Loves me,Loves me not,LOVES ME, '"
      ]
     },
     "execution_count": 1,
     "metadata": {},
     "output_type": "execute_result"
    }
   ],
   "source": [
    "def loves_me(num):\n",
    "    b=num-1\n",
    "    string2=''\n",
    "    for i in range(1,num):\n",
    "        if (i%2!=0):\n",
    "            string2=string2+\"Loves me,\"\n",
    "        if(i%2==0):\n",
    "            string2=string2+\"Loves me not,\"\n",
    "            if(b%2!=0):\n",
    "                string2=string2+\"LOVES ME NOT, \"\n",
    "            if(b%2==0):\n",
    "                string2=string2+\"LOVES ME, \"\n",
    "    return string2\n",
    "loves_me(3)"
   ]
  },
  {
   "cell_type": "markdown",
   "metadata": {},
   "source": [
    "4. Write a function that sorts each string in a list by the letter in alphabetic ascending order (a-z).\n",
    "Examples\n",
    "sort_by_letter([\"932c\", \"832u32\", \"2344b\"])\n",
    "➞ [\"2344b\", \"932c\", \"832u32\"]\n",
    "sort_by_letter([\"99a\", \"78b\", \"c2345\", \"11d\"])\n",
    "➞ [\"99a\", \"78b\", \"c2345\", \"11d\"]\n",
    "sort_by_letter([\"572z\", \"5y5\", \"304q2\"])\n",
    "➞ [\"304q2\", \"5y5\", \"572z\"]\n",
    "sort_by_letter([])\n",
    "➞ []"
   ]
  },
  {
   "cell_type": "code",
   "execution_count": 1,
   "metadata": {},
   "outputs": [],
   "source": [
    "def make_sort(l):\n",
    "    a=[]\n",
    "    for i in l:\n",
    "        a=l.sort()\n",
    "    return a\n",
    "make_sort([\"932c\", \"832u32\", \"2344b\"])"
   ]
  },
  {
   "cell_type": "code",
   "execution_count": null,
   "metadata": {},
   "outputs": [],
   "source": [
    "5. There are three cups on a table, at positions A, B, and C. At the start, there is a ball hidden under the cup at position B.\n",
    "\n",
    "However, I perform several swaps on the cups, which is notated as two letters. For example, if I swap the cups at positions A and B, I could notate this as AB or BA.\n",
    "\n",
    "Create a function that returns the letter position that the ball is at, once I finish swapping the cups. The swaps will be given to you as a list.\n",
    "\n",
    "Example\n",
    "\n",
    "cup_swapping([\"AB\", \"CA\", \"AB\"]) ➞ \"C\"\n",
    "\n",
    "# Ball begins at position B.\n",
    "# Cups A and B swap, so the ball is at position A.\n",
    "# Cups C and A swap, so the ball is at position C.\n",
    "# Cups A and B swap, but the ball is at position C, so it doesn't move."
   ]
  },
  {
   "cell_type": "code",
   "execution_count": 7,
   "metadata": {},
   "outputs": [
    {
     "data": {
      "text/plain": [
       "'C'"
      ]
     },
     "execution_count": 7,
     "metadata": {},
     "output_type": "execute_result"
    }
   ],
   "source": [
    "def cup_swapping(swaps):\n",
    "    ball='B'\n",
    "    for move in swaps: #'AB'\n",
    "        if ball in move:\n",
    "            if move[0]==ball: #<---if this is True\n",
    "                ball = move[1]\n",
    "            else:\n",
    "                ball=move[0]   # ball is updated'A'\n",
    "    return ball\n",
    "cup_swapping(['AB', 'CA', 'AB'])"
   ]
  }
 ],
 "metadata": {
  "kernelspec": {
   "display_name": "Python 3",
   "language": "python",
   "name": "python3"
  },
  "language_info": {
   "codemirror_mode": {
    "name": "ipython",
    "version": 3
   },
   "file_extension": ".py",
   "mimetype": "text/x-python",
   "name": "python",
   "nbconvert_exporter": "python",
   "pygments_lexer": "ipython3",
   "version": "3.7.6"
  }
 },
 "nbformat": 4,
 "nbformat_minor": 4
}
