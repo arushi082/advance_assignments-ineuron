{
 "cells": [
  {
   "cell_type": "code",
   "execution_count": null,
   "metadata": {},
   "outputs": [],
   "source": [
    "Given a list of numbers, create a function that removes 25% from every\n",
    "number in the list except the smallest number, and adds the total amount\n",
    "removed to the smallest number.\n",
    "show_the_love([4, 1, 4]) ➞ [3, 3, 3]\n",
    "show_the_love([16, 10, 8]) ➞ [12, 7.5, 14.5]"
   ]
  },
  {
   "cell_type": "code",
   "execution_count": 43,
   "metadata": {},
   "outputs": [
    {
     "data": {
      "text/plain": [
       "[12.0, 7.5, 14.5]"
      ]
     },
     "execution_count": 43,
     "metadata": {},
     "output_type": "execute_result"
    }
   ],
   "source": [
    "def show_the_love(list):\n",
    "    smallest= min(list)\n",
    "    sindex=list.index(smallest)\n",
    "    sum=0\n",
    "    for index,item in enumerate(list):\n",
    "        if(item!=smallest):\n",
    "            list[index]=(item*3)/4\n",
    "            sum=sum+item/4\n",
    "    smallest=smallest+sum\n",
    "    list[sindex]=smallest\n",
    "    return list\n",
    "show_the_love([4, 1, 4])\n",
    "show_the_love([16, 10, 8])"
   ]
  },
  {
   "cell_type": "code",
   "execution_count": null,
   "metadata": {},
   "outputs": [],
   "source": [
    "2.Create a function that takes in two words as input and returns a list of three\n",
    "elements, in th e following order:\n",
    "1.Shared letters between two words.\n",
    "2.Letters unique to word 1.\n",
    "3.Letters unique to word 2.\n",
    "Each element should have unique letters, and have each letter be\n",
    "alphabetically sorted.\n",
    "Examples\n",
    "letters(\"sharp\",\"soap\") ➞ [\"aps\", \"hr\", \"o\"]\n",
    "letters(\"board\", \"bored\") ➞ [\"bdor\",\"a\", \"e\"]"
   ]
  },
  {
   "cell_type": "code",
   "execution_count": 11,
   "metadata": {},
   "outputs": [
    {
     "data": {
      "text/plain": [
       "['bdor', 'a', 'e']"
      ]
     },
     "execution_count": 11,
     "metadata": {},
     "output_type": "execute_result"
    }
   ],
   "source": [
    "from collections import Counter\n",
    "def letters(string1,string2): \n",
    "    finallist=[]\n",
    "    dict1 = Counter(string1)\n",
    "    dict2 = Counter(string2)\n",
    "    commonDict = dict1 & dict2\n",
    "    if len(commonDict) == 0:\n",
    "        print (-1)\n",
    "        return\n",
    "    common = list(commonDict.elements())\n",
    "    common = sorted(common)\n",
    "    common=(''.join(common))\n",
    "    final1=unique1(string1,string2)\n",
    "    final2=unique2(string1,string2)\n",
    "    finallist.append(common)\n",
    "    finallist.append(final1)\n",
    "    finallist.append(final2)\n",
    "    return finallist\n",
    "def unique1(string1,string2):\n",
    "    list2=[]\n",
    "    list3=[]\n",
    "    for x in string1:\n",
    "        list2.append(x)\n",
    "    for y in string2:\n",
    "        list3.append(y)\n",
    "    a=list(set(list2).difference(set(list3)))\n",
    "    common = sorted(a)\n",
    "    common=(''.join(a))\n",
    "    return common\n",
    "def unique2(string1,string2):\n",
    "    list2=[]\n",
    "    list3=[]\n",
    "    for x in string1:\n",
    "        list2.append(x)\n",
    "    for y in string2:\n",
    "        list3.append(y)\n",
    "    b=list(set(list3).difference(set(list2)))\n",
    "    common1 = sorted(b)\n",
    "    common1=(''.join(b))\n",
    "    return common1  \n",
    "letters(\"sharp\",\"soap\")\n",
    "letters(\"board\", \"bored\") "
   ]
  },
  {
   "cell_type": "code",
   "execution_count": null,
   "metadata": {},
   "outputs": [],
   "source": [
    "Write a function that adds two numbers. The catch, however, is that the\n",
    "numbers will be strings.\n",
    "Examples\n",
    "add_str_nums(\"4\",\"5\") ➞ \"9\"\n",
    "add_str_nums(\"abcdefg\",\"3\") ➞ \"-1\"\n",
    "add_str_nums(\"1\",\"\") ➞\"1\"\n",
    "add_str_nums(\"1874682736267235927359283579235789257\",\"32652983572985729\") ➞ \"1874682736267235927391936562808774986\""
   ]
  },
  {
   "cell_type": "code",
   "execution_count": 9,
   "metadata": {},
   "outputs": [
    {
     "data": {
      "text/plain": [
       "1874682736267235927391936562808774986"
      ]
     },
     "execution_count": 9,
     "metadata": {},
     "output_type": "execute_result"
    }
   ],
   "source": [
    "def add_str_nums(first,second):\n",
    "    if first ==\"\":\n",
    "        first=0\n",
    "    elif second == \"\":\n",
    "        second=0\n",
    "    try:\n",
    "        return int(first) + int(second)\n",
    "    except ValueError:\n",
    "        return -1\n",
    "add_str_nums(\"4\",\"5\")\n",
    "add_str_nums(\"abcdefg\",\"3\")\n",
    "add_str_nums(\"1\",\"\") \n",
    "add_str_nums(\"1874682736267235927359283579235789257\",\"32652983572985729\")"
   ]
  },
  {
   "cell_type": "code",
   "execution_count": null,
   "metadata": {},
   "outputs": [],
   "source": [
    "5. lPaeesh le pemu mnxit ehess rtnisg! Oh, sorry, that was supposed to say:\n",
    "Please help me unmix these strings!\n",
    "Somehow my strings have all become mixed up; every pair of characters has\n",
    "been swapped. Help me undo this so I can understand my strings again.\n",
    "Examples\n",
    "unmix(\"123456\") ➞ \"214365\"\n",
    "unmix(\"hTsii s aimex dpus rtni.g\") ➞ \"This is a mixed up string.\"\n",
    "unmix(\"badce\") ➞ \"abcde\""
   ]
  },
  {
   "cell_type": "code",
   "execution_count": 30,
   "metadata": {},
   "outputs": [
    {
     "data": {
      "text/plain": [
       "'This is a mixed up string.'"
      ]
     },
     "execution_count": 30,
     "metadata": {},
     "output_type": "execute_result"
    }
   ],
   "source": [
    "def unmix(string):\n",
    "    string=''.join([string[x:x+2][::-1] for x in range(0, len(string), 2)])\n",
    "    return string\n",
    "unmix(\"hTsii  s aimex dpus rtni.g\")"
   ]
  }
 ],
 "metadata": {
  "kernelspec": {
   "display_name": "Python 3",
   "language": "python",
   "name": "python3"
  },
  "language_info": {
   "codemirror_mode": {
    "name": "ipython",
    "version": 3
   },
   "file_extension": ".py",
   "mimetype": "text/x-python",
   "name": "python",
   "nbconvert_exporter": "python",
   "pygments_lexer": "ipython3",
   "version": "3.7.6"
  }
 },
 "nbformat": 4,
 "nbformat_minor": 4
}
