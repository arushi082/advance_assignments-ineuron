{
 "cells": [
  {
   "cell_type": "code",
   "execution_count": null,
   "metadata": {},
   "outputs": [],
   "source": [
    "Create a function that returns the majority vote in a list. A majority vote is\n",
    "an element that occurs > N/2 times in a list (where N is the length of the list).\n",
    "Examples\n",
    "majority_vote([\"A\", \"A\", \"B\"]) ➞ \"A\""
   ]
  },
  {
   "cell_type": "code",
   "execution_count": 25,
   "metadata": {},
   "outputs": [
    {
     "data": {
      "text/plain": [
       "['B']"
      ]
     },
     "execution_count": 25,
     "metadata": {},
     "output_type": "execute_result"
    }
   ],
   "source": [
    "from collections import Counter\n",
    "def majority_vote(my_list):\n",
    "    a=len(my_list)\n",
    "    counts = Counter(my_list)\n",
    "    out_list = [i for i in counts if counts[i]>=a/2]\n",
    "    return out_list\n",
    "majority_vote([\"A\", \"A\", \"B\",\"B\",\"B\",\"C\",\"A\",\"A\",\"B\",\"B\"]) "
   ]
  },
  {
   "cell_type": "markdown",
   "metadata": {},
   "source": [
    "Create a function that takes a string txt and censors any word from a given\n",
    "list lst. The text removed must be replaced by the given character char.\n",
    "censor_string(\"Today is a Wednesday!\", [\"Today\", \"a\"], \"-\") ➞ \"----- is -\n",
    "Wednesday!"
   ]
  },
  {
   "cell_type": "code",
   "execution_count": 26,
   "metadata": {},
   "outputs": [
    {
     "name": "stdout",
     "output_type": "stream",
     "text": [
      "----- is - wednesday\n"
     ]
    }
   ],
   "source": [
    "import re\n",
    "\n",
    "def hide(str, list):\n",
    "    for item in list:\n",
    "        count = len(item)\n",
    "        str = \" \" + str +\" \"\n",
    "        str = re.sub(\" \" + item + \" \", \" \"+\"-\"*count+\" \", str)\n",
    "        str = str[1:-1]\n",
    "    return str\n",
    "\n",
    "\n",
    "print(hide(\"Today is a wednesday\", [\"Today\", \"a\"]))"
   ]
  },
  {
   "cell_type": "code",
   "execution_count": null,
   "metadata": {},
   "outputs": [],
   "source": [
    "In mathematics a Polydivisible Number (or magic number) is a number in a\n",
    "given number base with digits abcde... that has the following properties:\n",
    "- Its first digit a is not 0.\n",
    "- The number formed by its first two digits ab is a multiple of 2.\n",
    "- The number formed by its first three digits abc is a multiple of 3.\n",
    "- The number formed by its first four digits abcd is a multiple of 4.\n",
    "Create a function which takes an integer n and returns True if the given\n",
    "number is a Polydivisible Number and False otherwise.\n",
    "Examples\n",
    "is_polydivisible(1232) ➞ True\n",
    "# 1 / 1 = 1\n",
    "# 12 / 2 = 6\n",
    "# 123 / 3 = 41\n",
    "# 1232 / 4 = 308\n",
    "is_polydivisible(123220 ) ➞ False\n",
    "# 1 / 1 = 1\n",
    "# 12 / 2 = 6\n",
    "# 123 / 3 = 41\n",
    "# 1232 / 4 = 308\n",
    "# 12322 / 5 = 2464.4 # Not a Whole Number\n",
    "# 123220 /6 = 220536.333... # Not a Whole Number"
   ]
  },
  {
   "cell_type": "code",
   "execution_count": 33,
   "metadata": {},
   "outputs": [
    {
     "data": {
      "text/plain": [
       "True"
      ]
     },
     "execution_count": 33,
     "metadata": {},
     "output_type": "execute_result"
    }
   ],
   "source": [
    "def polydivisible(x):\n",
    "    x = str(x)\n",
    "    for i in range(len(x)):\n",
    "        if int(x[:i+1]) % (i+1) != 0:\n",
    "            return False\n",
    "    return True\n",
    "polydivisible(1232)"
   ]
  },
  {
   "cell_type": "code",
   "execution_count": null,
   "metadata": {},
   "outputs": [],
   "source": [
    "5. Create a function that takes a list of numbers and returns the sum of all\n",
    "prime numbers in the list.\n",
    "sum_primes([1, 2, 3, 4, 5, 6, 7, 8, 9, 10]) ➞ 17\n",
    "sum_primes([2, 3, 4, 11, 20, 50, 71]) ➞ 87"
   ]
  },
  {
   "cell_type": "code",
   "execution_count": 2,
   "metadata": {},
   "outputs": [
    {
     "name": "stdout",
     "output_type": "stream",
     "text": [
      "17\n"
     ]
    },
    {
     "data": {
      "text/plain": [
       "87"
      ]
     },
     "execution_count": 2,
     "metadata": {},
     "output_type": "execute_result"
    }
   ],
   "source": [
    "def prime(n):\n",
    "    count = 0\n",
    "    if n > 1:\n",
    "        for i in range(1,n+1):\n",
    "            if n % i == 0:\n",
    "                count = count + 1        \n",
    "        if count == 2:\n",
    "            return True\n",
    "        else:\n",
    "            return False\n",
    "\n",
    "def sumprimes(list1):\n",
    "    x = list(filter(prime,list1))\n",
    "    y = sum(x)\n",
    "    return y\n",
    "print(sumprimes([1,2,3,4,5,6,7,8,9,10]))\n",
    "sumprimes([2, 3, 4, 11, 20, 50, 71])"
   ]
  }
 ],
 "metadata": {
  "kernelspec": {
   "display_name": "Python 3",
   "language": "python",
   "name": "python3"
  },
  "language_info": {
   "codemirror_mode": {
    "name": "ipython",
    "version": 3
   },
   "file_extension": ".py",
   "mimetype": "text/x-python",
   "name": "python",
   "nbconvert_exporter": "python",
   "pygments_lexer": "ipython3",
   "version": "3.7.6"
  }
 },
 "nbformat": 4,
 "nbformat_minor": 4
}
