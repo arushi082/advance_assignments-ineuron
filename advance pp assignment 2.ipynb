{
 "cells": [
  {
   "cell_type": "markdown",
   "metadata": {},
   "source": [
    "Write a function that takes a positive integer num and calculates how many dots exist in a pentagonal shape around the center dot on the Nth iteration. In the image below you can see the first iteration is only a single dot. On the second, there are 6 dots. On the third, there are 16 dots, and on the fourth there are 31 dots."
   ]
  },
  {
   "cell_type": "code",
   "execution_count": 17,
   "metadata": {},
   "outputs": [
    {
     "name": "stdout",
     "output_type": "stream",
     "text": [
      "141.0\n"
     ]
    }
   ],
   "source": [
    "def PentagonalNumber(num): \n",
    "    num = num - 1\n",
    "    number = ((5*(num**2)) + (5*num) + 2) / 2 \n",
    "    return number\n",
    "n = 8\n",
    "print(PentagonalNumber(n))"
   ]
  },
  {
   "cell_type": "code",
   "execution_count": null,
   "metadata": {},
   "outputs": [],
   "source": [
    "Make a function that encrypts a given input with these steps:\n",
    "Input: \"apple\"\n",
    "Step 1: Reverse the input:\"elppa\"\n",
    "Step 2: Replace all vowels using the following chart:\n",
    "a = 0\n",
    "e = 1\n",
    "i = 2\n",
    "o = 2\n",
    "u = 3\n",
    "# \"1lpp0\";\n",
    "\n",
    "Step 3: Add \"aca\" to the end of the word: \"1lpp0aca\"\n",
    "Output: \"1lpp0aca\""
   ]
  },
  {
   "cell_type": "code",
   "execution_count": 73,
   "metadata": {},
   "outputs": [
    {
     "data": {
      "text/plain": [
       "'0n0n0baca'"
      ]
     },
     "execution_count": 73,
     "metadata": {},
     "output_type": "execute_result"
    }
   ],
   "source": [
    "s = \"apple\"\n",
    "s1=\"banana\"\n",
    "d = {\"a\":\"0\",\"e\":\"1\",\"i\":\"2\",\"o\":\"2\",\"u\":\"3\"}\n",
    "def encrypt(string, dictionary):\n",
    "    string2=' '\n",
    "    string=string[::-1]\n",
    "    for item in string:\n",
    "        if item in dictionary.keys():\n",
    "            string = string.replace(item, dictionary[item])\n",
    "            string2=string+'aca'\n",
    "    return string2\n",
    "encrypt(s,d)\n",
    "encrypt(s1,d)"
   ]
  },
  {
   "cell_type": "code",
   "execution_count": null,
   "metadata": {},
   "outputs": [],
   "source": [
    "Given the month and year as numbers, return whether that month contains\n",
    "a Friday 13th.(i.e You can check Python's datetime module)\n",
    "Examples\n",
    "has_friday_13(3, 2020) ➞ True\n",
    "has_friday_13(10, 2017) ➞ True\n",
    "has_friday_13(1, 1985) ➞ False"
   ]
  },
  {
   "cell_type": "code",
   "execution_count": 78,
   "metadata": {},
   "outputs": [
    {
     "name": "stdout",
     "output_type": "stream",
     "text": [
      "Enter the month & year: 3 2020\n",
      "True\n"
     ]
    }
   ],
   "source": [
    "def has_friday_13(month,year):\n",
    "    import datetime   \n",
    "    month, year = input('Enter the month & year: ').split()  \n",
    "    if datetime.datetime.strptime('13 '+' '+month+' '+year, '%d %m %Y').weekday()==4:\n",
    "        print(True)\n",
    "    else:\n",
    "        print(False) \n",
    "has_friday_13(month, year)    "
   ]
  },
  {
   "cell_type": "markdown",
   "metadata": {},
   "source": [
    "Write a regular expression that will help us count how many bad cookies\n",
    "are produced every day. You must use RegEx negative lookbehind.\n",
    "Example\n",
    "lst = [\"bad cookie\", \"good cookie\", \"bad cookie\", \"good cookie\", \"good cookie\"]\n",
    "pattern = \"yourregularexpressionhere&\"\n",
    "len(re.findall(pattern, \",\".join(lst))) ➞ 2"
   ]
  },
  {
   "cell_type": "code",
   "execution_count": 1,
   "metadata": {},
   "outputs": [
    {
     "name": "stdout",
     "output_type": "stream",
     "text": [
      "2\n"
     ]
    }
   ],
   "source": [
    "import re\n",
    "mylist = [\"bad cookie\", \"good cookie\", \"bad cookie\", \"good cookie\", \"good cookie\"]\n",
    "r = re.compile(\".*bad\")\n",
    "newlist = list(filter(r.match, mylist)) # Read Note\n",
    "print(len(newlist))"
   ]
  },
  {
   "cell_type": "code",
   "execution_count": null,
   "metadata": {},
   "outputs": [],
   "source": [
    "Given a list of words in the singular form, return a set of those words in the\n",
    "plural form if they appear more than once in the list.\n",
    "Examples\n",
    "pluralize([\"cow\", \"pig\", \"cow\", \"cow\"]) ➞ { \"cows\",\"pig\" }"
   ]
  },
  {
   "cell_type": "code",
   "execution_count": 2,
   "metadata": {},
   "outputs": [
    {
     "data": {
      "text/plain": [
       "['tables', 'apples', 'car']"
      ]
     },
     "execution_count": 2,
     "metadata": {},
     "output_type": "execute_result"
    }
   ],
   "source": [
    "def pluralize(list1):\n",
    "    unique_words = set(list1)\n",
    "    list2=[]\n",
    "    string2=''\n",
    "    for words in unique_words :\n",
    "        count=list1.count(words)\n",
    "        if count > 1:\n",
    "            string2=words+'s'\n",
    "            list2.append(string2)\n",
    "        else:\n",
    "            list2.append(words)\n",
    "    return list2\n",
    "pluralize([\"cow\", \"pig\", \"cow\", \"cow\"])\n",
    "pluralize([\"apple\",\"table\",\"table\",\"apple\",\"car\"])"
   ]
  },
  {
   "cell_type": "code",
   "execution_count": null,
   "metadata": {},
   "outputs": [],
   "source": []
  }
 ],
 "metadata": {
  "kernelspec": {
   "display_name": "Python 3",
   "language": "python",
   "name": "python3"
  },
  "language_info": {
   "codemirror_mode": {
    "name": "ipython",
    "version": 3
   },
   "file_extension": ".py",
   "mimetype": "text/x-python",
   "name": "python",
   "nbconvert_exporter": "python",
   "pygments_lexer": "ipython3",
   "version": "3.7.6"
  }
 },
 "nbformat": 4,
 "nbformat_minor": 4
}
