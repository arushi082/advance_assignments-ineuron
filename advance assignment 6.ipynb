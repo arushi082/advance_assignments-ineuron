{
 "cells": [
  {
   "cell_type": "code",
   "execution_count": null,
   "metadata": {},
   "outputs": [],
   "source": [
    "Q1. Describe three applications for exception processing."
   ]
  },
  {
   "cell_type": "markdown",
   "metadata": {},
   "source": [
    "Three applications of exception processing are:-\n",
    "Exceptions come in different types, and the type is printed as part of the message: the types in the example are ZeroDivisionError, NameError and TypeError , Keyboard interupt error"
   ]
  },
  {
   "cell_type": "code",
   "execution_count": null,
   "metadata": {},
   "outputs": [],
   "source": [
    "Q2. What happens if you don't do something extra to treat an exception?"
   ]
  },
  {
   "cell_type": "markdown",
   "metadata": {},
   "source": [
    "If an exception is not caught with a catch block  the runtime system will abort the program (i.e. crash) and an exception message will print to the console"
   ]
  },
  {
   "cell_type": "code",
   "execution_count": null,
   "metadata": {},
   "outputs": [],
   "source": [
    "Q3. What are your options for recovering from an exception in your script?"
   ]
  },
  {
   "cell_type": "markdown",
   "metadata": {},
   "source": [
    "a fallback exception for when the interpreter entirely runs out of memory and must immediately stop the current execution. In these rare instances, Python raises an OutofMemoryError, allowing the script to somehow catch itself and break out of the memory error and recover itself.\n",
    "However, since Python adopts to the memory management architecture of the C language (malloc() function), it is not certain that all processes of the script will recover — in some cases, a MemoryError will result in an unrecoverable crash."
   ]
  },
  {
   "cell_type": "code",
   "execution_count": null,
   "metadata": {},
   "outputs": [],
   "source": [
    "Q4. Describe two methods for triggering exceptions in your script."
   ]
  },
  {
   "cell_type": "markdown",
   "metadata": {},
   "source": [
    "Try statement is used to handle exceptions. Place the critical operation that can raise an exception inside the try clause. On the other hand, place the code that handles the exceptions in the except clause.Raise – Triggers an exception manually using custom exceptions\n",
    "ou can define what kind of error to raise, and the text to print to the user."
   ]
  },
  {
   "cell_type": "code",
   "execution_count": null,
   "metadata": {},
   "outputs": [],
   "source": [
    "Q5. Identify two methods for specifying actions to be executed at termination time, regardless of\n",
    "whether or not an exception exists."
   ]
  },
  {
   "cell_type": "markdown",
   "metadata": {},
   "source": [
    "Inside each except clause we define handler codes to handle the matching exception raised in the try block. The optional else clause contains codes to be executed if no exception occurs. The optional finally block contains codes to be executed irrespective of whether an exception occurs or not.\n"
   ]
  }
 ],
 "metadata": {
  "kernelspec": {
   "display_name": "Python 3",
   "language": "python",
   "name": "python3"
  },
  "language_info": {
   "codemirror_mode": {
    "name": "ipython",
    "version": 3
   },
   "file_extension": ".py",
   "mimetype": "text/x-python",
   "name": "python",
   "nbconvert_exporter": "python",
   "pygments_lexer": "ipython3",
   "version": "3.7.6"
  }
 },
 "nbformat": 4,
 "nbformat_minor": 4
}
