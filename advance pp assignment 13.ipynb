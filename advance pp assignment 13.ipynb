{
 "cells": [
  {
   "cell_type": "code",
   "execution_count": null,
   "metadata": {},
   "outputs": [],
   "source": [
    "1. Create a function that takes a list and string. The function should remove\n",
    "the letters in the string from the list, and return the list.\n",
    "Examples\n",
    "remove_letters([\"s\",\"t\",\"r\",\"i\",\"n\",\"g\",\"w\"], \"string\") ➞ [\"w\"]\n",
    "remove_letters([\"b\",\"b\",\"l\",\"l\",\"g\",\"n\",\"o\",\"a\",\"w\"], \"balloon\") ➞ [\"b\",\"g\",\"w\"]"
   ]
  },
  {
   "cell_type": "code",
   "execution_count": 15,
   "metadata": {},
   "outputs": [
    {
     "data": {
      "text/plain": [
       "['b', 'g', 'w']"
      ]
     },
     "execution_count": 15,
     "metadata": {},
     "output_type": "execute_result"
    }
   ],
   "source": [
    "def remove_letters(list1,string):\n",
    "    list2=[]\n",
    "    for i in string:\n",
    "        list2.append(i)\n",
    "    a=list(set(list1).difference(set(list2)))\n",
    "    common = sorted(a)\n",
    "    return common\n",
    "remove_letters([\"s\",\"t\",\"r\",\"i\",\"n\",\"g\",\"w\"], \"string\")\n",
    "remove_letters([\"B\",\"b\",\"l\",\"l\",\"g\",\"n\",\"o\",\"a\",\"w\"], \"Balloon\")"
   ]
  },
  {
   "cell_type": "code",
   "execution_count": null,
   "metadata": {},
   "outputs": [],
   "source": [
    "2. A block sequence in three dimensions. We can write a formula for this one:\n",
    "\n",
    "Create a function that takes a number (step) as an argument and returns the\n",
    "amount of blocks in that step.\n",
    "Examples\n",
    "blocks(1) ➞ 5"
   ]
  },
  {
   "cell_type": "code",
   "execution_count": 24,
   "metadata": {},
   "outputs": [
    {
     "data": {
      "text/plain": [
       "39"
      ]
     },
     "execution_count": 24,
     "metadata": {},
     "output_type": "execute_result"
    }
   ],
   "source": [
    "def count(n):\n",
    "    if n==1:\n",
    "        return 1\n",
    "    else:\n",
    "        return n+count(n-1)\n",
    "\n",
    "def  blocks(step):\n",
    "    if step==0:\n",
    "        return 0\n",
    "    else:\n",
    "        return count(step)+step*3+step*2-1\n",
    "blocks(5)"
   ]
  },
  {
   "cell_type": "code",
   "execution_count": null,
   "metadata": {},
   "outputs": [],
   "source": [
    "Create a function that subtracts one positive integer from another, without\n",
    "using any arithmetic operators such as -, %, /, +, etc.\n",
    "Examples\n",
    "my_sub(5, 9) ➞ 4\n",
    "my_sub(10, 30) ➞ 20"
   ]
  },
  {
   "cell_type": "code",
   "execution_count": 38,
   "metadata": {},
   "outputs": [
    {
     "data": {
      "text/plain": [
       "20"
      ]
     },
     "execution_count": 38,
     "metadata": {},
     "output_type": "execute_result"
    }
   ],
   "source": [
    "def my_sub(x, y):\n",
    "    if x>y:\n",
    "        if (y == 0):\n",
    "            return x\n",
    "        return my_sub(x ^ y, (~x & y) << 1)\n",
    "    elif y>x:\n",
    "        if (x == 0):\n",
    "            return y\n",
    "        return my_sub(y ^ x, (~y & x) << 1)\n",
    "        \n",
    "my_sub(10, 30)"
   ]
  },
  {
   "cell_type": "code",
   "execution_count": null,
   "metadata": {},
   "outputs": [],
   "source": [
    "4. Create a function that takes a string containing money in dollars and\n",
    "pounds sterling (seperated by comma) and returns the sum of dollar bills only,\n",
    "as an integer.\n",
    "For the input string:\n",
    "- Each amount is prefixed by the currency symbol: $ for dollars and £ for\n",
    "pounds.\n",
    "- Thousands are represented by the suffix k.\n",
    "i.e. $4k = $4,000 and £40k = £40,000\n",
    "Examples\n",
    "add_bill(\"d20,p40,p60,d50\") ➞ 20 + 50 = 70\n",
    "add_bill(\"p30,d20,p60,d150,p360\") ➞ 20 + 150 = 170"
   ]
  },
  {
   "cell_type": "code",
   "execution_count": 20,
   "metadata": {},
   "outputs": [
    {
     "data": {
      "text/plain": [
       "170"
      ]
     },
     "execution_count": 20,
     "metadata": {},
     "output_type": "execute_result"
    }
   ],
   "source": [
    "def add_bill(string):\n",
    "    list1=string.split(',')\n",
    "    result = [i for i in list1 if i.startswith('d')]\n",
    "    num_list = [int(i.split('d')[1]) for i in result]\n",
    "    return sum(num_list)\n",
    "add_bill(\"d20,p40,p60,d50\")\n",
    "add_bill(\"p30,d20,p60,d150,p360\")"
   ]
  },
  {
   "cell_type": "code",
   "execution_count": null,
   "metadata": {},
   "outputs": [],
   "source": [
    "5. Create a function that flips a horizontal list into a vertical list, and a vertical\n",
    "list into a horizontal list.\n",
    "In other words, take an 1 x n list (1 row + n columns) and flip it into a n x 1 list\n",
    "(n rows and 1 column), and vice versa.\n",
    "flip_list([1, 2, 3, 4]) ➞ [[1], [2], [3], [4]]\n",
    "# Take a horizontal list and flip it vertical.\n",
    "flip_list([[5], [6], [9]]) ➞ [5, 6, 9]\n",
    "# Take a vertical list and flip it horizontal."
   ]
  },
  {
   "cell_type": "code",
   "execution_count": 44,
   "metadata": {},
   "outputs": [
    {
     "data": {
      "text/plain": [
       "[5, 6, 9]"
      ]
     },
     "execution_count": 44,
     "metadata": {},
     "output_type": "execute_result"
    }
   ],
   "source": [
    "def flip_list(lst):\n",
    "    if not lst:\n",
    "        return lst\n",
    "    is_vertical = isinstance(lst[0], list)\n",
    "    if is_vertical:\n",
    "        return [el[0] for el in lst]\n",
    "    return [[el] for el in lst]\n",
    "flip_list([1, 2, 3, 4]) \n",
    "flip_list([[5], [6], [9]]) "
   ]
  }
 ],
 "metadata": {
  "kernelspec": {
   "display_name": "Python 3",
   "language": "python",
   "name": "python3"
  },
  "language_info": {
   "codemirror_mode": {
    "name": "ipython",
    "version": 3
   },
   "file_extension": ".py",
   "mimetype": "text/x-python",
   "name": "python",
   "nbconvert_exporter": "python",
   "pygments_lexer": "ipython3",
   "version": "3.7.6"
  }
 },
 "nbformat": 4,
 "nbformat_minor": 4
}
